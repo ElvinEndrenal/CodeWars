{
 "cells": [
  {
   "cell_type": "markdown",
   "metadata": {},
   "source": [
    "# CodeWars\n",
    "Prepared by: Endrenal, John Elvin S."
   ]
  },
  {
   "cell_type": "markdown",
   "metadata": {},
   "source": [
    "### Easy Category"
   ]
  },
  {
   "cell_type": "markdown",
   "metadata": {},
   "source": [
    "#### FizzBuzz\n",
    "Write a program that prints the numbers from 1 to 100. However, for multiples of 3, print \"Fizz\" <br>\n",
    "instead of the number, and for multiples of 5, print \"Buzz\". For numbers which are multiples of <br>\n",
    "both 3 and 5, print \"FizzBuzz\".\n",
    "\n",
    "Requirements:\n",
    "* Loop through numbers from 1 to 100.\n",
    "* Replace numbers divisible by 3 with \"Fizz\".\n",
    "* Replace numbers divisible by 5 with \"Buzz\".\n",
    "* Replace numbers divisible by both 3 and 5 with \"FizzBuzz\".\n",
    "* Print all results line by line."
   ]
  },
  {
   "cell_type": "code",
   "execution_count": null,
   "metadata": {
    "vscode": {
     "languageId": "java"
    }
   },
   "outputs": [],
   "source": [
    "public class FizzBuzz {\n",
    "    public static void main(String[] args) {\n",
    "        for (int i = 1; i <= 100; i++) {\n",
    "            if (i % 3 == 0 && i % 5 == 0) {\n",
    "                System.out.println(\"FizzBuzz\");\n",
    "            } else if (i % 3 == 0) {\n",
    "                System.out.println(\"Fizz\");\n",
    "            } else if (i % 5 == 0) {\n",
    "                System.out.println(\"Buzz\");\n",
    "            } else {\n",
    "                System.out.println(i);\n",
    "            }\n",
    "        }\n",
    "    }\n",
    "}"
   ]
  },
  {
   "cell_type": "markdown",
   "metadata": {},
   "source": [
    "#### Simple Calculator\n",
    "This program performs basic arithmetic operations based on the user's choice.\n",
    "\n",
    "Operations include:\n",
    " * 1 - Addition\n",
    " * 2 - Subtraction\n",
    " * 3 - Multiplication\n",
    " * 4 - Division\n",
    " * 5 - Modulus\n",
    "\n",
    "The user inputs:\n",
    " *  The operation (1-5)\n",
    " *  The first number\n",
    " *  The second number\n",
    "\n",
    "The program calculates and displays the result of the selected operation.\n"
   ]
  },
  {
   "cell_type": "code",
   "execution_count": null,
   "metadata": {
    "vscode": {
     "languageId": "java"
    }
   },
   "outputs": [],
   "source": [
    "import java.util.Scanner;\n",
    "\n",
    "public class SimpleCalculator {\n",
    "    public static void main(String[] args) {\n",
    "        Scanner scanner = new Scanner(System.in);\n",
    "\n",
    "        // Display menu\n",
    "        System.out.println(\"Calculator Operations:\");\n",
    "        System.out.println(\"1 - Add\");\n",
    "        System.out.println(\"2 - Subtract\");\n",
    "        System.out.println(\"3 - Multiply\");\n",
    "        System.out.println(\"4 - Divide\");\n",
    "        System.out.println(\"5 - Modulus\");\n",
    "\n",
    "        // Get user inputs\n",
    "        System.out.print(\"Enter the operation (1-5): \");\n",
    "        int operation = scanner.nextInt();\n",
    "\n",
    "        System.out.print(\"Enter the first number: \");\n",
    "        double num1 = scanner.nextDouble();\n",
    "\n",
    "        System.out.print(\"Enter the second number: \");\n",
    "        double num2 = scanner.nextDouble();\n",
    "\n",
    "        if (operation == 1) {\n",
    "            System.out.println(\"Result (Addition): \" + (num1 + num2));\n",
    "        } else if (operation == 2) {\n",
    "            System.out.println(\"Result (Subtraction): \" + (num1 - num2));\n",
    "        } else if (operation == 3) {\n",
    "            System.out.println(\"Result (Multiplication): \" + (num1 * num2));\n",
    "        } else if (operation == 4) {\n",
    "            if (num2 != 0) {\n",
    "                System.out.println(\"Result (Division): \" + (num1 / num2));\n",
    "            } else {\n",
    "                System.out.println(\"Error: Division by zero is not allowed.\");\n",
    "            }\n",
    "        } else if (operation == 5) {\n",
    "            if (num2 != 0) {\n",
    "                System.out.println(\"Result (Modulus): \" + (num1 % num2));\n",
    "            } else {\n",
    "                System.out.println(\"Error: Modulus by zero is not allowed.\");\n",
    "            }\n",
    "        } else {\n",
    "            System.out.println(\"Invalid operation selected. Please choose between 1 and 5.\");\n",
    "        }\n",
    "\n",
    "        // Close the scanner\n",
    "        scanner.close();\n",
    "    }\n",
    "}\n"
   ]
  },
  {
   "cell_type": "markdown",
   "metadata": {},
   "source": [
    "### Intermediate Category"
   ]
  },
  {
   "cell_type": "markdown",
   "metadata": {},
   "source": [
    "##### Find the Most Frequent Number\n",
    "Given an integer array numbers, return the most frequent element. If there is a tie (multiple numbers <br> \n",
    "have the same highest frequency), return the smallest of those numbers.\n",
    "\n",
    "Input: <br>\n",
    "An integer array numbers of length n (1 ≤ n ≤ 10^5), where each element numbers[i] (0 ≤ numbers[i] ≤ 10^4). <br>\n",
    "Output: <br>\n",
    "Return the most frequent number. If there is a tie, return the smallest number among them. <br>\n",
    "\n",
    "Example 1: <br>\n",
    "findMostFrequent(new int[]{1, 3, 3, 1, 2}); <br>\n",
    "<br>\n",
    "Output: 1\n",
    "\n",
    "Example 2: <br>\n",
    "findMostFrequent(new int[]{4, 5, 6, 6, 5, 4, 4}); <br>\n",
    "<br>\n",
    "Output: 4\n"
   ]
  },
  {
   "cell_type": "code",
   "execution_count": null,
   "metadata": {
    "vscode": {
     "languageId": "java"
    }
   },
   "outputs": [],
   "source": [
    "import java.util.Arrays;\n",
    "\n",
    "public class Solution {\n",
    "    public static int findMostFrequent(int[] numbers) {\n",
    "        // Sort the array\n",
    "        Arrays.sort(numbers);\n",
    "\n",
    "        int mostFrequent = numbers[0];\n",
    "        int maxFrequency = 1;\n",
    "\n",
    "        int currentNumber = numbers[0];\n",
    "        int currentFrequency = 1;\n",
    "\n",
    "        for (int i = 1; i < numbers.length; i++) {\n",
    "            if (numbers[i] == currentNumber) {\n",
    "                // Increment frequency of the current number\n",
    "                currentFrequency++;\n",
    "            } else {\n",
    "                // Update most frequent number if needed\n",
    "                if (currentFrequency > maxFrequency || \n",
    "                    (currentFrequency == maxFrequency && currentNumber < mostFrequent)) {\n",
    "                    mostFrequent = currentNumber;\n",
    "                    maxFrequency = currentFrequency;\n",
    "                }\n",
    "\n",
    "                // Reset for the new number\n",
    "                currentNumber = numbers[i];\n",
    "                currentFrequency = 1;\n",
    "            }\n",
    "        }\n",
    "\n",
    "        // Final check for the last number\n",
    "        if (currentFrequency > maxFrequency || \n",
    "            (currentFrequency == maxFrequency && currentNumber < mostFrequent)) {\n",
    "            mostFrequent = currentNumber;\n",
    "        }\n",
    "\n",
    "        return mostFrequent;\n",
    "    }\n",
    "\n",
    "    // Test cases\n",
    "    public static void main(String[] args) {\n",
    "        System.out.println(findMostFrequent(new int[]{1, 3, 3, 1, 2})); // 1\n",
    "        System.out.println(findMostFrequent(new int[]{4, 5, 6, 6, 5, 4, 4})); // 4\n",
    "        System.out.println(findMostFrequent(new int[]{7, 7, 8, 8, 9, 9})); // 7\n",
    "        System.out.println(findMostFrequent(new int[]{10})); // 10\n",
    "    }\n",
    "}"
   ]
  },
  {
   "cell_type": "markdown",
   "metadata": {},
   "source": [
    "##### Array Operations: Values, Sum, and Max\n",
    "\n",
    "Given an integer array numbers, output the following:\n",
    "\n",
    "* The values of the array.\n",
    "* The sum of all elements in the array.\n",
    "* The maximum value in the array.\n",
    "\n",
    "Input:<br>\n",
    "An integer array numbers of length n (1 ≤ n ≤ 10^5), where each element numbers[i] (0 ≤ numbers[i] ≤ 10^4). <br>\n",
    "\n",
    "Example:<br>\n",
    "displayArrayInfo(new int[]{1, 2, 3, 4, 5}); <br>\n",
    "<br>\n",
    "Outputs:  <br>\n",
    "Array values: 1 2 3 4 5 <br>\n",
    "Sum: 15 <br>\n",
    "Max: 5 <br>"
   ]
  },
  {
   "cell_type": "code",
   "execution_count": null,
   "metadata": {
    "vscode": {
     "languageId": "java"
    }
   },
   "outputs": [],
   "source": [
    "public class ArrayOperations {\n",
    "\n",
    "    public static void main(String[] args) {\n",
    "        // Given array\n",
    "        int[] numbers = {1, 2, 3, 4, 5};\n",
    "        // Call the method to display the values, sum, and max\n",
    "        displayArrayInfo(numbers);\n",
    "    }\n",
    "\n",
    "    public static void displayArrayInfo(int[] numbers) {\n",
    "        // Output the values of the array\n",
    "        System.out.print(\"Array values: \");\n",
    "        for (int num : numbers) {\n",
    "            System.out.print(num + \" \");\n",
    "        }\n",
    "\n",
    "        // Calculate and output the sum of the array\n",
    "        int sum = 0;\n",
    "        for (int num : numbers) {\n",
    "            sum += num;\n",
    "        }\n",
    "        System.out.println(\"\\nSum: \" + sum);\n",
    "\n",
    "        // Find and output the maximum value in the array\n",
    "        int max = numbers[0];\n",
    "        for (int num : numbers) {\n",
    "            if (num > max) {\n",
    "                max = num;\n",
    "            }\n",
    "        }\n",
    "        System.out.println(\"Max: \" + max);\n",
    "    }\n",
    "}\n"
   ]
  },
  {
   "cell_type": "markdown",
   "metadata": {},
   "source": [
    "##### Number to Words Converter\n",
    "\n",
    "Given an integer number between 1 and 999, this program converts the number into words,<br>\n",
    "representing the hundreds, tens, and ones places.\n",
    "\n",
    "Input:\n",
    "* An integer num (1 ≤ num ≤ 999). <br>\n",
    "\n",
    "Output:\n",
    "* The program will print the words corresponding to the number's hundreds, tens, and ones digits.\n",
    "* If the number is above 999, it will display an error message.\n",
    "<br>\n",
    "Example: <br>\n",
    "Input: 342 <br>\n",
    "Output: Three Four Two\n",
    "\n",
    "Constraints:\n",
    "* The number must be between 1 and 999.\n",
    "* The program only uses conditionals for handling the logic, with no loops, arrays, or methods except for the main method."
   ]
  },
  {
   "cell_type": "code",
   "execution_count": null,
   "metadata": {
    "vscode": {
     "languageId": "java"
    }
   },
   "outputs": [],
   "source": [
    "import java.util.Scanner;\n",
    "\n",
    "public class Program {\n",
    "    public static void main(String[] args) {\n",
    "        Scanner scanner = new Scanner(System.in);\n",
    "\n",
    "        System.out.print(\"Enter number 1-999: \");\n",
    "        int num = scanner.nextInt();\n",
    "\n",
    "        // Check if the number is greater than 999\n",
    "        if (num > 999) {\n",
    "            System.out.println(\"Number is too large, try again.\");\n",
    "            return;\n",
    "        }\n",
    "\n",
    "        int hundred = num / 100;\n",
    "        int ten = (num / 10) % 10;\n",
    "        int single = num % 10;\n",
    "\n",
    "        // Print hundreds place\n",
    "        if (hundred > 0) {\n",
    "            if (hundred == 1) System.out.print(\"One \");\n",
    "            if (hundred == 2) System.out.print(\"Two \");\n",
    "            if (hundred == 3) System.out.print(\"Three \");\n",
    "            if (hundred == 4) System.out.print(\"Four \");\n",
    "            if (hundred == 5) System.out.print(\"Five \");\n",
    "            if (hundred == 6) System.out.print(\"Six \");\n",
    "            if (hundred == 7) System.out.print(\"Seven \");\n",
    "            if (hundred == 8) System.out.print(\"Eight \");\n",
    "            if (hundred == 9) System.out.print(\"Nine \");\n",
    "        }\n",
    "\n",
    "        // Print tens place\n",
    "        if (hundred > 0 || ten > 0) {\n",
    "            if (ten == 1) {\n",
    "                if (single == 0) System.out.print(\"Ten \");\n",
    "                if (single == 1) System.out.print(\"Eleven \");\n",
    "                if (single == 2) System.out.print(\"Twelve \");\n",
    "                if (single == 3) System.out.print(\"Thirteen \");\n",
    "                if (single == 4) System.out.print(\"Fourteen \");\n",
    "                if (single == 5) System.out.print(\"Fifteen \");\n",
    "                if (single == 6) System.out.print(\"Sixteen \");\n",
    "                if (single == 7) System.out.print(\"Seventeen \");\n",
    "                if (single == 8) System.out.print(\"Eighteen \");\n",
    "                if (single == 9) System.out.print(\"Nineteen \");\n",
    "            } else {\n",
    "                if (ten == 2) System.out.print(\"Twenty \");\n",
    "                if (ten == 3) System.out.print(\"Thirty \");\n",
    "                if (ten == 4) System.out.print(\"Forty \");\n",
    "                if (ten == 5) System.out.print(\"Fifty \");\n",
    "                if (ten == 6) System.out.print(\"Sixty \");\n",
    "                if (ten == 7) System.out.print(\"Seventy \");\n",
    "                if (ten == 8) System.out.print(\"Eighty \");\n",
    "                if (ten == 9) System.out.print(\"Ninety \");\n",
    "            }\n",
    "        }\n",
    "\n",
    "        // Print ones place\n",
    "        if (hundred > 0 || ten > 0 || single > 0) {\n",
    "            if (single == 1) System.out.print(\"One \");\n",
    "            if (single == 2) System.out.print(\"Two \");\n",
    "            if (single == 3) System.out.print(\"Three \");\n",
    "            if (single == 4) System.out.print(\"Four \");\n",
    "            if (single == 5) System.out.print(\"Five \");\n",
    "            if (single == 6) System.out.print(\"Six \");\n",
    "            if (single == 7) System.out.print(\"Seven \");\n",
    "            if (single == 8) System.out.print(\"Eight \");\n",
    "            if (single == 9) System.out.print(\"Nine \");\n",
    "        }\n",
    "\n",
    "        System.out.println();\n",
    "\n",
    "        scanner.close();\n",
    "    }\n",
    "}\n"
   ]
  },
  {
   "cell_type": "markdown",
   "metadata": {},
   "source": [
    "---end of the page---"
   ]
  }
 ],
 "metadata": {
  "kernelspec": {
   "display_name": "Python 3 (ipykernel)",
   "language": "python",
   "name": "python3"
  },
  "language_info": {
   "codemirror_mode": {
    "name": "ipython",
    "version": 3
   },
   "file_extension": ".py",
   "mimetype": "text/x-python",
   "name": "python",
   "nbconvert_exporter": "python",
   "pygments_lexer": "ipython3",
   "version": "3.12.7"
  }
 },
 "nbformat": 4,
 "nbformat_minor": 4
}
