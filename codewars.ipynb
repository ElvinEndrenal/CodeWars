{
 "cells": [
  {
   "cell_type": "markdown",
   "metadata": {},
   "source": [
    "# CodeWars"
   ]
  },
  {
   "cell_type": "markdown",
   "metadata": {},
   "source": [
    "### Easy Category"
   ]
  },
  {
   "cell_type": "markdown",
   "metadata": {},
   "source": [
    "#### FizzBuzz\n",
    "Write a program that prints the numbers from 1 to 100. However, for multiples of 3, print \"Fizz\" <br>\n",
    "instead of the number, and for multiples of 5, print \"Buzz\". For numbers which are multiples of <br>\n",
    "both 3 and 5, print \"FizzBuzz\".\n",
    "\n",
    "Output: <br>\n",
    "    1 <br>\n",
    "    2 <br>\n",
    "    Fizz <br>\n",
    "    4 <br>\n",
    "    Buzz <br>\n",
    "    Fizz <br>\n",
    "    ...\n",
    "\n",
    "Requirements:\n",
    "* Loop through numbers from 1 to 100.\n",
    "* Replace numbers divisible by 3 with \"Fizz\".\n",
    "* Replace numbers divisible by 5 with \"Buzz\".\n",
    "* Replace numbers divisible by both 3 and 5 with \"FizzBuzz\".\n",
    "* Print all results line by line."
   ]
  },
  {
   "cell_type": "code",
   "execution_count": null,
   "metadata": {
    "vscode": {
     "languageId": "java"
    }
   },
   "outputs": [],
   "source": [
    "public class FizzBuzz {\n",
    "    public static void main(String[] args) {\n",
    "        for (int i = 1; i <= 100; i++) {\n",
    "            if (i % 3 == 0 && i % 5 == 0) {\n",
    "                System.out.println(\"FizzBuzz\");\n",
    "            } else if (i % 3 == 0) {\n",
    "                System.out.println(\"Fizz\");\n",
    "            } else if (i % 5 == 0) {\n",
    "                System.out.println(\"Buzz\");\n",
    "            } else {\n",
    "                System.out.println(i);\n",
    "            }\n",
    "        }\n",
    "    }\n",
    "}"
   ]
  },
  {
   "cell_type": "markdown",
   "metadata": {},
   "source": [
    "#### Simple Calculator\n",
    "This program performs basic arithmetic operations based on the user's choice.\n",
    "\n",
    "Operations include:\n",
    " * 1 - Addition\n",
    " * 2 - Subtraction\n",
    " * 3 - Multiplication\n",
    " * 4 - Division\n",
    " * 5 - Modulus\n",
    "\n",
    "The user inputs:\n",
    " *  The operation (1-5)\n",
    " *  The first number\n",
    " *  The second number\n",
    "\n",
    "The program calculates and displays the result of the selected operation.\n"
   ]
  },
  {
   "cell_type": "code",
   "execution_count": null,
   "metadata": {
    "vscode": {
     "languageId": "java"
    }
   },
   "outputs": [],
   "source": [
    "import java.util.Scanner;\n",
    "\n",
    "public class SimpleCalculator {\n",
    "    public static void main(String[] args) {\n",
    "        Scanner scanner = new Scanner(System.in);\n",
    "\n",
    "        // Display menu\n",
    "        System.out.println(\"Calculator Operations:\");\n",
    "        System.out.println(\"1 - Add\");\n",
    "        System.out.println(\"2 - Subtract\");\n",
    "        System.out.println(\"3 - Multiply\");\n",
    "        System.out.println(\"4 - Divide\");\n",
    "        System.out.println(\"5 - Modulus\");\n",
    "\n",
    "        // Get user inputs\n",
    "        System.out.print(\"Enter the operation (1-5): \");\n",
    "        int operation = scanner.nextInt();\n",
    "\n",
    "        System.out.print(\"Enter the first number: \");\n",
    "        double num1 = scanner.nextDouble();\n",
    "\n",
    "        System.out.print(\"Enter the second number: \");\n",
    "        double num2 = scanner.nextDouble();\n",
    "\n",
    "        if (operation == 1) {\n",
    "            System.out.println(\"Result (Addition): \" + (num1 + num2));\n",
    "        } else if (operation == 2) {\n",
    "            System.out.println(\"Result (Subtraction): \" + (num1 - num2));\n",
    "        } else if (operation == 3) {\n",
    "            System.out.println(\"Result (Multiplication): \" + (num1 * num2));\n",
    "        } else if (operation == 4) {\n",
    "            if (num2 != 0) {\n",
    "                System.out.println(\"Result (Division): \" + (num1 / num2));\n",
    "            } else {\n",
    "                System.out.println(\"Error: Division by zero is not allowed.\");\n",
    "            }\n",
    "        } else if (operation == 5) {\n",
    "            if (num2 != 0) {\n",
    "                System.out.println(\"Result (Modulus): \" + (num1 % num2));\n",
    "            } else {\n",
    "                System.out.println(\"Error: Modulus by zero is not allowed.\");\n",
    "            }\n",
    "        } else {\n",
    "            System.out.println(\"Invalid operation selected. Please choose between 1 and 5.\");\n",
    "        }\n",
    "\n",
    "        // Close the scanner\n",
    "        scanner.close();\n",
    "    }\n",
    "}\n"
   ]
  },
  {
   "cell_type": "markdown",
   "metadata": {},
   "source": [
    "### Intermediate Category"
   ]
  },
  {
   "cell_type": "markdown",
   "metadata": {},
   "source": [
    "#### Find the Most Frequent Number\n",
    "Given an integer array numbers, return the most frequent element. If there is a tie (multiple numbers <br> \n",
    "have the same highest frequency), return the smallest of those numbers.\n",
    "\n",
    "Input: <br>\n",
    "An integer array numbers of length n (1 ≤ n ≤ 10^5), where each element numbers[i] (0 ≤ numbers[i] ≤ 10^4). <br>\n",
    "Output: <br>\n",
    "Return the most frequent number. If there is a tie, return the smallest number among them. <br>\n",
    "\n",
    "Example 1: <br>\n",
    "findMostFrequent(new int[]{1, 3, 3, 1, 2}); <br>\n",
    "Output: 1\n",
    "\n",
    "Example 2: <br>\n",
    "findMostFrequent(new int[]{4, 5, 6, 6, 5, 4, 4}); <br>\n",
    "Output: 4\n"
   ]
  },
  {
   "cell_type": "code",
   "execution_count": null,
   "metadata": {
    "vscode": {
     "languageId": "java"
    }
   },
   "outputs": [],
   "source": [
    "import java.util.Arrays;\n",
    "\n",
    "public class Solution {\n",
    "    public static int findMostFrequent(int[] numbers) {\n",
    "        // Sort the array\n",
    "        Arrays.sort(numbers);\n",
    "\n",
    "        int mostFrequent = numbers[0];\n",
    "        int maxFrequency = 1;\n",
    "\n",
    "        int currentNumber = numbers[0];\n",
    "        int currentFrequency = 1;\n",
    "\n",
    "        for (int i = 1; i < numbers.length; i++) {\n",
    "            if (numbers[i] == currentNumber) {\n",
    "                // Increment frequency of the current number\n",
    "                currentFrequency++;\n",
    "            } else {\n",
    "                // Update most frequent number if needed\n",
    "                if (currentFrequency > maxFrequency || \n",
    "                    (currentFrequency == maxFrequency && currentNumber < mostFrequent)) {\n",
    "                    mostFrequent = currentNumber;\n",
    "                    maxFrequency = currentFrequency;\n",
    "                }\n",
    "\n",
    "                // Reset for the new number\n",
    "                currentNumber = numbers[i];\n",
    "                currentFrequency = 1;\n",
    "            }\n",
    "        }\n",
    "\n",
    "        // Final check for the last number\n",
    "        if (currentFrequency > maxFrequency || \n",
    "            (currentFrequency == maxFrequency && currentNumber < mostFrequent)) {\n",
    "            mostFrequent = currentNumber;\n",
    "        }\n",
    "\n",
    "        return mostFrequent;\n",
    "    }\n",
    "\n",
    "    // Test cases\n",
    "    public static void main(String[] args) {\n",
    "        System.out.println(findMostFrequent(new int[]{1, 3, 3, 1, 2})); // 1\n",
    "        System.out.println(findMostFrequent(new int[]{4, 5, 6, 6, 5, 4, 4})); // 4\n",
    "        System.out.println(findMostFrequent(new int[]{7, 7, 8, 8, 9, 9})); // 7\n",
    "        System.out.println(findMostFrequent(new int[]{10})); // 10\n",
    "    }\n",
    "}"
   ]
  }
 ],
 "metadata": {
  "kernelspec": {
   "display_name": "Python 3",
   "language": "python",
   "name": "python3"
  },
  "language_info": {
   "name": "python",
   "version": "3.12.3"
  }
 },
 "nbformat": 4,
 "nbformat_minor": 2
}
